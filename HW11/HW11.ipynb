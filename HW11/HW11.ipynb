{
  "cells": [
    {
      "cell_type": "code",
      "execution_count": 8,
      "id": "c7429e9c-8728-47e3-9eb8-0cf782c1cef7",
      "metadata": {
        "id": "c7429e9c-8728-47e3-9eb8-0cf782c1cef7"
      },
      "outputs": [],
      "source": [
        "from tensorflow import keras\n",
        "from keras.datasets import fashion_mnist\n",
        "from keras.models import Sequential\n",
        "from keras.layers import Dense\n",
        "from keras import optimizers\n",
        "from keras import losses\n",
        "from keras import metrics\n",
        "from keras import layers\n",
        "from keras import models\n",
        "from keras.utils import to_categorical\n",
        "\n",
        "import numpy as np\n",
        "import pandas as pd\n",
        "\n",
        "import matplotlib.pyplot as plt "
      ]
    },
    {
      "cell_type": "code",
      "execution_count": 31,
      "id": "a055d08e-9638-436d-a9e3-108db1012d4c",
      "metadata": {
        "id": "a055d08e-9638-436d-a9e3-108db1012d4c"
      },
      "outputs": [],
      "source": [
        "(x_train, y_train), (x_test, y_test) = fashion_mnist.load_data()"
      ]
    },
    {
      "cell_type": "code",
      "execution_count": 32,
      "id": "1fc4de64-bcd7-4f15-b8f4-2bad7125278b",
      "metadata": {
        "id": "1fc4de64-bcd7-4f15-b8f4-2bad7125278b"
      },
      "outputs": [],
      "source": [
        "x_train = x_train.reshape((60000, 28, 28, 1))\n",
        "x_train = x_train.astype(\"float32\") / 255\n",
        "\n",
        "x_test = x_test.reshape((10000, 28, 28, 1))\n",
        "x_test = x_test.astype(\"float32\") / 255\n",
        "y_train = to_categorical(y_train)\n",
        "y_test = to_categorical(y_test)"
      ]
    },
    {
      "cell_type": "code",
      "execution_count": 33,
      "id": "ae448c16-91c7-4440-b52d-1ac00cad8c1b",
      "metadata": {
        "id": "ae448c16-91c7-4440-b52d-1ac00cad8c1b"
      },
      "outputs": [],
      "source": [
        "model = models.Sequential([\n",
        "    layers.Conv2D(32, (3, 3), activation=\"relu\", input_shape=(28, 28, 1)),\n",
        "    layers.MaxPooling2D((2, 2)),\n",
        "    \n",
        "    layers.Conv2D(64, (3, 3), activation=\"relu\"),\n",
        "    layers.MaxPooling2D((2, 2)),\n",
        "\n",
        "    layers.Conv2D(64, (3, 3), activation=\"relu\"),\n",
        "    layers.Dropout(0.2),\n",
        "\n",
        "    layers.Flatten(),\n",
        "    layers.Dense(64, activation=\"sigmoid\"),\n",
        "    layers.Dense(10, activation=\"softmax\")\n",
        "])\n",
        "\n",
        "model.compile(\n",
        "    optimizer='rmsprop',\n",
        "    loss='categorical_crossentropy',\n",
        "    metrics=['accuracy']\n",
        ")"
      ]
    },
    {
      "cell_type": "code",
      "execution_count": 34,
      "id": "e245a6ef-ff5b-442c-8968-b10d28e300d8",
      "metadata": {
        "colab": {
          "base_uri": "https://localhost:8080/"
        },
        "id": "e245a6ef-ff5b-442c-8968-b10d28e300d8",
        "outputId": "9c9318c1-c661-4a9f-89a8-ae7d21de663f"
      },
      "outputs": [
        {
          "output_type": "stream",
          "name": "stdout",
          "text": [
            "Model: \"sequential_4\"\n",
            "_________________________________________________________________\n",
            " Layer (type)                Output Shape              Param #   \n",
            "=================================================================\n",
            " conv2d_12 (Conv2D)          (None, 26, 26, 32)        320       \n",
            "                                                                 \n",
            " max_pooling2d_8 (MaxPooling  (None, 13, 13, 32)       0         \n",
            " 2D)                                                             \n",
            "                                                                 \n",
            " conv2d_13 (Conv2D)          (None, 11, 11, 64)        18496     \n",
            "                                                                 \n",
            " max_pooling2d_9 (MaxPooling  (None, 5, 5, 64)         0         \n",
            " 2D)                                                             \n",
            "                                                                 \n",
            " conv2d_14 (Conv2D)          (None, 3, 3, 64)          36928     \n",
            "                                                                 \n",
            " dropout_4 (Dropout)         (None, 3, 3, 64)          0         \n",
            "                                                                 \n",
            " flatten_4 (Flatten)         (None, 576)               0         \n",
            "                                                                 \n",
            " dense_8 (Dense)             (None, 64)                36928     \n",
            "                                                                 \n",
            " dense_9 (Dense)             (None, 10)                650       \n",
            "                                                                 \n",
            "=================================================================\n",
            "Total params: 93,322\n",
            "Trainable params: 93,322\n",
            "Non-trainable params: 0\n",
            "_________________________________________________________________\n"
          ]
        }
      ],
      "source": [
        "model.summary()"
      ]
    },
    {
      "cell_type": "code",
      "execution_count": 36,
      "id": "6112ce3b-2a80-4b02-864d-435a0cc37dbd",
      "metadata": {
        "colab": {
          "base_uri": "https://localhost:8080/"
        },
        "id": "6112ce3b-2a80-4b02-864d-435a0cc37dbd",
        "outputId": "d4bb71f7-5dae-413e-8e26-2aafb5af8732"
      },
      "outputs": [
        {
          "output_type": "stream",
          "name": "stdout",
          "text": [
            "Epoch 1/10\n",
            "500/500 [==============================] - 4s 8ms/step - loss: 0.1218 - accuracy: 0.9547 - val_loss: 0.2617 - val_accuracy: 0.9156\n",
            "Epoch 2/10\n",
            "500/500 [==============================] - 3s 6ms/step - loss: 0.1214 - accuracy: 0.9549 - val_loss: 0.2544 - val_accuracy: 0.9159\n",
            "Epoch 3/10\n",
            "500/500 [==============================] - 3s 6ms/step - loss: 0.1178 - accuracy: 0.9566 - val_loss: 0.2590 - val_accuracy: 0.9192\n",
            "Epoch 4/10\n",
            "500/500 [==============================] - 3s 6ms/step - loss: 0.1172 - accuracy: 0.9570 - val_loss: 0.2689 - val_accuracy: 0.9137\n",
            "Epoch 5/10\n",
            "500/500 [==============================] - 3s 6ms/step - loss: 0.1153 - accuracy: 0.9571 - val_loss: 0.2649 - val_accuracy: 0.9167\n",
            "Epoch 6/10\n",
            "500/500 [==============================] - 3s 6ms/step - loss: 0.1103 - accuracy: 0.9595 - val_loss: 0.2659 - val_accuracy: 0.9173\n",
            "Epoch 7/10\n",
            "500/500 [==============================] - 3s 6ms/step - loss: 0.1071 - accuracy: 0.9601 - val_loss: 0.2879 - val_accuracy: 0.9158\n",
            "Epoch 8/10\n",
            "500/500 [==============================] - 3s 6ms/step - loss: 0.1066 - accuracy: 0.9608 - val_loss: 0.2737 - val_accuracy: 0.9146\n",
            "Epoch 9/10\n",
            "500/500 [==============================] - 3s 6ms/step - loss: 0.1050 - accuracy: 0.9619 - val_loss: 0.2753 - val_accuracy: 0.9147\n",
            "Epoch 10/10\n",
            "500/500 [==============================] - 3s 6ms/step - loss: 0.0998 - accuracy: 0.9630 - val_loss: 0.2679 - val_accuracy: 0.9198\n"
          ]
        }
      ],
      "source": [
        "x_val = x_train[:10000]\n",
        "partial_x_train = x_train[10000:]\n",
        "\n",
        "y_val = y_train[:10000]\n",
        "partial_y_train = y_train[10000:]\n",
        "\n",
        "\n",
        "history = model.fit(\n",
        "    partial_x_train,\n",
        "    partial_y_train,\n",
        "    epochs=50,\n",
        "    batch_size=312,\n",
        "    validation_data=(x_val, y_val)\n",
        ")\n",
        "history = model.fit(\n",
        "    partial_x_train,\n",
        "    partial_y_train,\n",
        "    epochs=10,\n",
        "    batch_size=100,\n",
        "    validation_data=(x_val, y_val)\n",
        ")"
      ]
    },
    {
      "cell_type": "code",
      "execution_count": 38,
      "id": "026c7bdf-9bc6-4ef2-918d-85c03ae40565",
      "metadata": {
        "scrolled": true,
        "tags": [],
        "colab": {
          "base_uri": "https://localhost:8080/",
          "height": 590
        },
        "id": "026c7bdf-9bc6-4ef2-918d-85c03ae40565",
        "outputId": "619774bc-d04b-4f1b-d36b-057806140ac0"
      },
      "outputs": [
        {
          "output_type": "display_data",
          "data": {
            "text/plain": [
              "<Figure size 432x288 with 1 Axes>"
            ],
            "image/png": "[encoded data removed]"
          },
          "metadata": {
            "needs_background": "light"
          }
        },
        {
          "output_type": "execute_result",
          "data": {
            "text/plain": [
              "<matplotlib.legend.Legend at 0x7f89c6371100>"
            ]
          },
          "metadata": {},
          "execution_count": 38
        },
        {
          "output_type": "display_data",
          "data": {
            "text/plain": [
              "<Figure size 432x288 with 1 Axes>"
            ],
            "image/png": "[encoded data removed]"
          },
          "metadata": {
            "needs_background": "light"
          }
        }
      ],
      "source": [
        "history_dict = history.history\n",
        "loss_values = history_dict['loss']\n",
        "val_loss_values = history_dict['val_loss']\n",
        "\n",
        "epochs = range(1, len(history_dict['accuracy']) + 1)\n",
        "\n",
        "plt.plot(epochs, loss_values, 'bo', label='Training loss')\n",
        "plt.plot(epochs, val_loss_values, 'b', label='Validation loss')\n",
        "plt.title('Training and validation loss')\n",
        "plt.xlabel('Epochs')\n",
        "plt.ylabel('Loss')\n",
        "plt.legend()\n",
        "plt.show()\n",
        "\n",
        "plt.clf()\n",
        "val_acc_values = history_dict['val_accuracy']\n",
        "plt.plot(epochs, history_dict['accuracy'], 'bo', label='Training acc')\n",
        "plt.plot(epochs, history_dict['val_accuracy'], 'b', label='Validation acc')\n",
        "plt.title('Training and validation accuracy')\n",
        "plt.xlabel('Epochs')\n",
        "plt.ylabel('accyracy')\n",
        "plt.legend()"
      ]
    },
    {
      "cell_type": "code",
      "execution_count": 37,
      "id": "0944e425-124b-485b-a095-22faa53bf267",
      "metadata": {
        "colab": {
          "base_uri": "https://localhost:8080/"
        },
        "id": "0944e425-124b-485b-a095-22faa53bf267",
        "outputId": "bf751136-0b18-4502-d583-224a1313cef7"
      },
      "outputs": [
        {
          "output_type": "stream",
          "name": "stdout",
          "text": [
            "313/313 [==============================] - 1s 3ms/step - loss: 0.2767 - accuracy: 0.9196\n",
            "[0.2767298221588135, 0.9196000099182129]\n"
          ]
        }
      ],
      "source": [
        "# y_test = to_categorical(y_test, dtype =\"uint8\")\n",
        "results = model.evaluate(x_test, y_test)\n",
        "print(results)"
      ]
    },
    {
      "cell_type": "code",
      "execution_count": 39,
      "id": "730f3d71-a6b1-4ed9-8430-b67751a22f93",
      "metadata": {
        "colab": {
          "base_uri": "https://localhost:8080/"
        },
        "id": "730f3d71-a6b1-4ed9-8430-b67751a22f93",
        "outputId": "f48b2655-e639-4e60-e5a6-3c7c54937f4b"
      },
      "outputs": [
        {
          "output_type": "stream",
          "name": "stdout",
          "text": [
            "[(9, 0.9197999835014343)]\n",
            "[(1, 0.25443267822265625)]\n"
          ]
        }
      ],
      "source": [
        "print([x for x in (enumerate(history.history[\"val_accuracy\"])) if x[1] == max(history.history[\"val_accuracy\"])])\n",
        "print([x for x in (enumerate(history.history[\"val_loss\"])) if x[1] == min(history.history[\"val_loss\"])])"
      ]
    },
    {
      "cell_type": "code",
      "source": [],
      "metadata": {
        "id": "6Ft-NwLdpd6e"
      },
      "id": "6Ft-NwLdpd6e",
      "execution_count": null,
      "outputs": []
    }
  ],
  "metadata": {
    "kernelspec": {
      "display_name": "Python 3 (ipykernel)",
      "language": "python",
      "name": "python3"
    },
    "language_info": {
      "codemirror_mode": {
        "name": "ipython",
        "version": 3
      },
      "file_extension": ".py",
      "mimetype": "text/x-python",
      "name": "python",
      "nbconvert_exporter": "python",
      "pygments_lexer": "ipython3",
      "version": "3.10.0"
    },
    "colab": {
      "provenance": []
    },
    "accelerator": "GPU",
    "gpuClass": "standard"
  },
  "nbformat": 4,
  "nbformat_minor": 5
}