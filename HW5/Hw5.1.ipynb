{
 "cells": [
  {
   "cell_type": "code",
   "execution_count": 1,
   "id": "4140b3f4-80e9-4982-90c1-0bd328588033",
   "metadata": {},
   "outputs": [],
   "source": [
    "from scipy.optimize import minimize\n",
    "import numpy as np\n",
    "import matplotlib.pyplot as plt"
   ]
  },
  {
   "cell_type": "raw",
   "id": "8ed6f856-536d-42dd-aa32-f3210dbd6b14",
   "metadata": {},
   "source": [
    "S = 1000\n",
    "fence_len = 2*a + b\n",
    "S = a * b = 1000\n",
    "b = 1000/a\n",
    "fance_len = 2*a + 1000/a"
   ]
  },
  {
   "cell_type": "code",
   "execution_count": 12,
   "id": "0c8aa51e-9b09-4ff2-abd4-b481fdad6993",
   "metadata": {},
   "outputs": [
    {
     "name": "stdout",
     "output_type": "stream",
     "text": [
      "Fence lenth : 89.44271910010269\n",
      "a side lenth(two sides by): 22.36064453125004\n",
      "b side lenth(one side): 44.721430037602616\n"
     ]
    }
   ],
   "source": [
    "def fence_func(x):\n",
    "    return 2 * x + 1000 / x\n",
    "\n",
    "result = minimize(fence_func, [1],  method='Nelder-Mead')\n",
    "print(f\"Fence lenth : {result.fun}\") # fence len\n",
    "print(f\"a side lenth(two sides by): {result.x[0]}\") # a side\n",
    "print(f\"b side lenth(one side): {result.fun - (result.x[0]*2)}\") # b side"
   ]
  },
  {
   "cell_type": "code",
   "execution_count": null,
   "id": "064d0f85-1fed-45c1-adf6-8f4682bdbafc",
   "metadata": {},
   "outputs": [],
   "source": []
  }
 ],
 "metadata": {
  "kernelspec": {
   "display_name": "Python 3 (ipykernel)",
   "language": "python",
   "name": "python3"
  },
  "language_info": {
   "codemirror_mode": {
    "name": "ipython",
    "version": 3
   },
   "file_extension": ".py",
   "mimetype": "text/x-python",
   "name": "python",
   "nbconvert_exporter": "python",
   "pygments_lexer": "ipython3",
   "version": "3.10.0"
  }
 },
 "nbformat": 4,
 "nbformat_minor": 5
}
