{
 "cells": [
  {
   "cell_type": "markdown",
   "metadata": {
    "id": "b0Yf4NBJUSNM"
   },
   "source": [
    "# Создание нейронной сети\n",
    "\n",
    "В этом задании мы создадим полносвязную нейронную сеть используя при этом низкоуровневые механизмы tensorflow.\n",
    "\n",
    "Архитектутра нейросети представлена на следующем рисунке. Как видите, в ней имеется один входной слой, два скрытых, а так же выходной слой. В качестве активационной функции в скрытых слоях будет использоваться сигмоида. На выходном слое мы используем softmax.\n",
    "\n",
    "Часть кода по созданию сети уже написана, от вас требуется заполнить пропуски в указанных местах."
   ]
  },
  {
   "cell_type": "markdown",
   "metadata": {
    "id": "01rZWUu0USNQ"
   },
   "source": [
    "## Архитектура нейронной сети\n",
    "\n",
    "<img src=\"http://cs231n.github.io/assets/nn1/neural_net2.jpeg\" alt=\"nn\" style=\"width: 400px;\"/>\n"
   ]
  },
  {
   "cell_type": "markdown",
   "metadata": {
    "id": "LLvIZ705Qw_V"
   },
   "source": [
    "## О датасете MNIST\n",
    "\n",
    "Данную нейросеть мы будем обучать на датасете MNIST. Этот датасет представляет собой большое количество изображений рукописных цифр размером $28 \\times 28$ пикселей. Каждый пиксель принимает значение от 0 до 255.\n",
    "\n",
    "Как и раньше датасет будет разеделен на обучающую и тестовую выборки. При этом мы выполним нормализацию всех изображений, чтобы значения пикселей находились в промежутке от 0 до 1, разделив яркость каждого пикселя на 255.\n",
    "\n",
    "Кроме того, архитектура нейронной сети ожидает на вход вектор. В нашем же случае каждый объект выборки представляет собой матрицу. Что же делать? В этом задании мы \"растянем\" матрицу $28 \\times 28$, получив при этом вектор, состоящей из 784 элементов.\n",
    "\n",
    "![MNIST Dataset](https://www.researchgate.net/profile/Steven-Young-5/publication/306056875/figure/fig1/AS:393921575309346@1470929630835/Example-images-from-the-MNIST-dataset.png)\n",
    "\n",
    "Больше информации о датасете можно найти [здесь](http://yann.lecun.com/exdb/mnist/)."
   ]
  },
  {
   "cell_type": "code",
   "execution_count": 1,
   "metadata": {
    "id": "il_0_5OyUSNR"
   },
   "outputs": [],
   "source": [
    "import tensorflow as tf\n",
    "import numpy as np\n",
    "import matplotlib.pyplot as plt"
   ]
  },
  {
   "cell_type": "code",
   "execution_count": 2,
   "metadata": {
    "id": "cd-1_abTUSNS"
   },
   "outputs": [],
   "source": [
    "num_classes = 10 # общее количество классов, в нашем случае это цифры от 0 до 9\n",
    "num_features = 784 # количество атрибутов входного вектора 28 * 28 = 784\n",
    "\n",
    "learning_rate = 0.001 # скорость обучения нейронной сети\n",
    "training_steps = 4000 # максимальное число эпох\n",
    "batch_size = 256 # пересчитывать веса сети мы будем не на всей выборке, а на ее случайном подможестве из batch_size элементов\n",
    "display_step = 100 # каждые 100 итераций мы будем показывать текущее значение функции потерь и точности\n",
    "\n",
    "n_hidden_1 = 128 # количество нейронов 1-го слоя\n",
    "n_hidden_2 = 256 # количество нейронов 2-го слоя"
   ]
  },
  {
   "cell_type": "code",
   "execution_count": 3,
   "metadata": {
    "colab": {
     "base_uri": "https://localhost:8080/"
    },
    "id": "pGTXiRyTUSNT",
    "outputId": "a835f86d-4f78-48ed-cb8b-1eefd26e0285"
   },
   "outputs": [],
   "source": [
    "from tensorflow.keras.datasets import mnist\n",
    "\n",
    "# Загружаем датасет\n",
    "(x_train, y_train), (x_test, y_test) = mnist.load_data()\n",
    "\n",
    "# Преобразуем целочисленные пиксели к типа float32\n",
    "x_train, x_test = np.array(x_train, np.float32), np.array(x_test, np.float32)\n",
    "\n",
    "# Преобразуем матрицы размером 28x28 пикселей в вектор из 784 элементов\n",
    "x_train, x_test = x_train.reshape([-1, num_features]), x_test.reshape([-1, num_features])\n",
    "\n",
    "# Нормализуем значения пикселей\n",
    "x_train, x_test = x_train / 255., x_test / 255.\n",
    "\n",
    "# Перемешаем тренировочные данные\n",
    "train_data = tf.data.Dataset.from_tensor_slices((x_train, y_train))\n",
    "\n",
    "train_data = train_data.repeat().shuffle(5000).batch(batch_size).prefetch(1)"
   ]
  },
  {
   "cell_type": "code",
   "execution_count": 4,
   "metadata": {},
   "outputs": [
    {
     "name": "stdout",
     "output_type": "stream",
     "text": [
      "0.0\n"
     ]
    }
   ],
   "source": [
    "print(x_test.take(2))"
   ]
  },
  {
   "cell_type": "code",
   "execution_count": null,
   "metadata": {
    "id": "FkRmCQjnUSNV"
   },
   "outputs": [],
   "source": [
    "# Создадим нейронную сеть\n",
    "\n",
    "class DenseLayer(tf.Module):\n",
    "    def __init__(self, in_features, out_features, activate_function = tf.nn.relu, name=None):\n",
    "        super().__init__(name=name)\n",
    "        # Место для вашего кода\n",
    "        self.w = tf.Variable(tf.random.normal([in_features, out_features]), name=\"w\")\n",
    "        self.b = tf.Variable(tf.zeros([out_features]), name=\"b\")\n",
    "        self.activate_function = activate_function\n",
    "\n",
    "    def __call__(self, x):\n",
    "        # Место для вашего кода\n",
    "        y = tf.matmul(x, self.w) + self.b\n",
    "        return self.activate_function(y)\n",
    "\n",
    "\n",
    "\n",
    "class NN(tf.Module):\n",
    "  def __init__(self, name=None):\n",
    "    super().__init__(name=name)\n",
    "    # Первый слой, состоящий из 128 нейронов\n",
    "    # Место для вашего кода\n",
    "    self.layer_1 = DenseLayer(in_features=num_features, out_features=n_hidden_1, activate_function = tf.nn.sigmoid)\n",
    "\n",
    "    # Второй слой, состоящий из 256 нейронов\n",
    "    # Место для вашего кода\n",
    "    self.layer_2 = DenseLayer(in_features=n_hidden_1, out_features=n_hidden_2, activate_function = tf.nn.sigmoid)\n",
    "\n",
    "    # Выходной слой\n",
    "    # Место для вашего кода\n",
    "    self.out_layer = DenseLayer(in_features=n_hidden_2, out_features=10, activate_function = tf.nn.softmax)\n",
    "\n",
    "  def __call__(self, x):\n",
    "    # Место для вашего кода\n",
    "    x = self.layer_1(x)\n",
    "    x = self.layer_2(x)\n",
    "\n",
    "    # Помните что для выхода нейронной сети мы применяем к выходу функцию softmax. \n",
    "    # Делаем мы это для того, чтобы\n",
    "    # выход нейронной сети принимал значения от 0 до 1 в соответствии с вероятностью \n",
    "    # принадлежности входного объекта к одному из 10 классов\n",
    "\n",
    "    # Место для вашего кода\n",
    "    x = self.out_layer(x) \n",
    "    return x"
   ]
  },
  {
   "cell_type": "code",
   "execution_count": null,
   "metadata": {
    "id": "LIf3o7VAUSNV"
   },
   "outputs": [],
   "source": [
    "# В качестве функции ошибки в данном случае удобно взять кросс-энтропию\n",
    "def cross_entropy(y_pred, y_true):\n",
    "    # Encode label to a one hot vector.\n",
    "    y_true = tf.one_hot(y_true, depth=num_classes)\n",
    "\n",
    "    # Clip prediction values to avoid log(0) error.\n",
    "    y_pred = tf.clip_by_value(y_pred, 1e-9, 1.)\n",
    "\n",
    "    # Вычисление кросс-энтропии\n",
    "    return tf.reduce_mean(-tf.reduce_sum(y_true * tf.math.log(y_pred)))\n",
    "\n",
    "# В качестве метрики качества используем точность\n",
    "def accuracy(y_pred, y_true):\n",
    "    # Место для вашего кода\n",
    "    acc = tf.metrics.Accuracy()\n",
    "    acc.update_state(y_true, tf.argmax(y_pred, axis=1))\n",
    "    return acc.result().numpy()"
   ]
  },
  {
   "cell_type": "code",
   "execution_count": null,
   "metadata": {
    "id": "MQeT1yatUSNW"
   },
   "outputs": [],
   "source": [
    "\n",
    "\n",
    "# Функция обучения нейросети\n",
    "def train(nn, input_x, output_y):\n",
    "  # Для подгонки весов сети будем использовать стохастический градиентный спуск\n",
    "  optimizer = tf.optimizers.SGD(learning_rate=learning_rate)\n",
    "\n",
    "  # Активация автоматического дифференцирования\n",
    "  with tf.GradientTape() as g:\n",
    "    #pred = neural_net(input_x)\n",
    "    pred = nn(input_x)\n",
    "    loss = cross_entropy(pred, output_y)\n",
    "        \n",
    "    # Создадим оптимизируемых список параметров\n",
    "    # Место для вашего кода\n",
    "    trainable_variables = nn.trainable_variables\n",
    "\n",
    "    # Вычислим по ним значение градиента\n",
    "    dydx = g.gradient(loss, trainable_variables)\n",
    "    \n",
    "    # Модифицируем параметры\n",
    "    # Место для вашего кода\n",
    "    optimizer.apply_gradients(zip(dydx, trainable_variables))"
   ]
  },
  {
   "cell_type": "code",
   "execution_count": null,
   "metadata": {
    "id": "fnyns9lBfpQZ"
   },
   "outputs": [],
   "source": [
    "# Тренировка сети\n",
    "\n",
    "# Создадим экзампляр нейронной сети\n",
    "neural_net = NN(name=\"mnist\")\n",
    "\n",
    "loss_history = []  # каждые display_step шагов сохраняйте в этом список текущую ошибку нейросети\n",
    "accuracy_history = [] # каждые display_step шагов сохраняйте в этом список текущую точность нейросети\n",
    "\n",
    "# В этом цикле мы будем производить обучение нейронной сети\n",
    "# из тренировочного датасета train_data извлеките случайное подмножество, на котором \n",
    "# произведется тренировка. Используйте метод take, доступный для тренировочного датасета.\n",
    "\n",
    "for step, (batch_x, batch_y) in enumerate(train_data.take(training_steps)):\n",
    "\n",
    "    # Обновляем веса нейронной сети\n",
    "    # Место для вашего кода\n",
    "    train(neural_net, batch_x, batch_y)\n",
    "\n",
    "    if step % display_step == 0:\n",
    "        # Место для вашего кода\n",
    "        current_loss = cross_entropy(neural_net(x_test), y_test).numpy()\n",
    "        loss_history.append(current_loss)\n",
    "\n",
    "        result_neural_net = neural_net(x_test)\n",
    "        current_accuracy = accuracy(result_neural_net, y_test)\n",
    "        accuracy_history.append(current_accuracy)\n"
   ]
  },
  {
   "cell_type": "code",
   "execution_count": null,
   "metadata": {
    "colab": {
     "base_uri": "https://localhost:8080/",
     "height": 400
    },
    "id": "_yCBfG6MbQB2",
    "outputId": "672a72d6-1482-4108-dd6c-094a608f1d57"
   },
   "outputs": [
    {
     "data": {
      "image/png": "[encoded data removed]",
      "text/plain": [
       "<Figure size 864x432 with 2 Axes>"
      ]
     },
     "metadata": {
      "needs_background": "light"
     },
     "output_type": "display_data"
    }
   ],
   "source": [
    "# Выведите графики зависимости изменения точности и потерь от шага\n",
    "# Если все сделано правильно, то точность должна расти, а потери уменьшаться\n",
    "\n",
    "# Место для вашего кода\n",
    "import matplotlib.pyplot as plt\n",
    "import pandas as pd\n",
    "\n",
    "steps = pd.RangeIndex(0,training_steps, display_step)\n",
    "\n",
    "fig, ax1 = plt.subplots(figsize=(12,6))\n",
    "ax1.plot(steps, loss_history,  color='tab:red')\n",
    "\n",
    "ax2 = ax1.twinx() \n",
    "ax2.plot(steps, accuracy_history, color='tab:blue')\n",
    "\n",
    "ax1.set_xlabel('steps', fontsize=20)\n",
    "ax1.tick_params(axis='x', rotation=0, labelsize=12)\n",
    "ax1.set_ylabel('loss history', color='tab:red', fontsize=20)\n",
    "\n",
    "ax2.set_ylabel(\"accuracy history\", color='tab:blue', fontsize=20)\n",
    "ax2.tick_params(axis='y', labelcolor='tab:blue')\n"
   ]
  },
  {
   "cell_type": "code",
   "execution_count": null,
   "metadata": {
    "colab": {
     "base_uri": "https://localhost:8080/"
    },
    "id": "xSpI5Uftmxfh",
    "outputId": "0abe53b0-25d6-4bef-f82c-a203afe25cf7"
   },
   "outputs": [
    {
     "data": {
      "text/plain": [
       "[0.0981,\n",
       " 0.6853,\n",
       " 0.7579,\n",
       " 0.794,\n",
       " 0.8142,\n",
       " 0.829,\n",
       " 0.8413,\n",
       " 0.8445,\n",
       " 0.856,\n",
       " 0.8581,\n",
       " 0.8683,\n",
       " 0.8696,\n",
       " 0.8708,\n",
       " 0.8776,\n",
       " 0.8778,\n",
       " 0.883,\n",
       " 0.883,\n",
       " 0.8858,\n",
       " 0.8836,\n",
       " 0.8911,\n",
       " 0.8938,\n",
       " 0.8966,\n",
       " 0.895,\n",
       " 0.8995,\n",
       " 0.8984,\n",
       " 0.9004,\n",
       " 0.8985,\n",
       " 0.901,\n",
       " 0.9037,\n",
       " 0.9036,\n",
       " 0.9034,\n",
       " 0.9065,\n",
       " 0.9077,\n",
       " 0.9072,\n",
       " 0.9078,\n",
       " 0.9104,\n",
       " 0.9111,\n",
       " 0.9112,\n",
       " 0.9101,\n",
       " 0.9129]"
      ]
     },
     "execution_count": 12,
     "metadata": {},
     "output_type": "execute_result"
    }
   ],
   "source": [
    "accuracy_history\n"
   ]
  },
  {
   "cell_type": "code",
   "execution_count": null,
   "metadata": {
    "id": "LE3g4gDyUSNY"
   },
   "outputs": [],
   "source": [
    "# Вычислите точность обученной нейросети\n",
    "\n",
    "# Место для вашего кода\n",
    "result_neural_net = neural_net(x_test)\n",
    "current_accuracy = accuracy(result_neural_net, y_test)\n",
    "current_accuracy"
   ]
  },
  {
   "cell_type": "code",
   "execution_count": null,
   "metadata": {
    "id": "_EEHAubOUSNY"
   },
   "outputs": [],
   "source": [
    "# Протестируем обученную нейросеть на 10 изображениях. Из тестовой выборки возьмите 5 \n",
    "# случайных изображений и передайте их в нейронню сеть.\n",
    "# Выведите изображение и выпишите рядом ответ нейросети.\n",
    "import random\n",
    "import matplotlib.pyplot as plt\n",
    "\n",
    "testing_indexes = random.sample(range(len(y_test)), 5)\n",
    "predictions = neural_net(x_test).numpy()\n",
    "for i in testing_indexes:\n",
    "  plt.imshow(np.reshape(x_test[i],(28,28)))\n",
    "  plt.show()\n",
    "  print('predict - ', np.argmax(predictions[i]))\n",
    "  print(predictions[i])\n",
    "\n"
   ]
  },
  {
   "cell_type": "code",
   "execution_count": null,
   "metadata": {
    "id": "SJH4ugD7UtvZ"
   },
   "outputs": [],
   "source": [
    "# Сделайте вывод о том ошибается ли ваша нейронная сеть и если да, то как часто?\n",
    "\n",
    "# Место для вашего кода\n",
    "collect_mistakes_x = []\n",
    "collect_mistakes_y = []\n",
    "collect_mistakes_pred_y = []\n",
    "len_test_collection = len(y_test)\n",
    "for i in range(len_test_collection):\n",
    "  y_predict = np.argmax(predictions[i])\n",
    "  if y_predict != y_test[i]: \n",
    "    collect_mistakes_x.append(x_test[i])\n",
    "    collect_mistakes_y.append(y_test[i])\n",
    "    collect_mistakes_pred_y.append(predictions[i])\n",
    "print(f'number of mistakes is {len(collect_mistakes_y)} from {len_test_collection}')\n",
    "  "
   ]
  },
  {
   "cell_type": "code",
   "execution_count": null,
   "metadata": {
    "id": "MoYPqYzicnDh"
   },
   "outputs": [],
   "source": [
    "counters = dict()\n",
    "for number in range(10):\n",
    "  print(f\"mistakes of '{number}'\")\n",
    "  count = 0\n",
    "  #print(number, collect_mistakes_y[i])\n",
    "  for i in range(len(collect_mistakes_y)):\n",
    "    if number == collect_mistakes_y[i]:\n",
    "      count += 1\n",
    "      #plt.imshow(np.reshape(collect_mistakes_x[i],(28,28)))\n",
    "      #plt.show()\n",
    "      #print(f'Must be {collect_mistakes_y[i]}, but predicted - {np.argmax(collect_mistakes_pred_y[i])}')\n",
    "      #print(f'because probability tensor was {collect_mistakes_pred_y[i]}')  \n",
    "  counters[number] = count\n",
    "print(counters)"
   ]
  },
  {
   "cell_type": "code",
   "execution_count": null,
   "metadata": {
    "id": "fZrV0hz8j0_G"
   },
   "outputs": [],
   "source": [
    "a = {0: 52, 1: 28, 2: 124, 3: 94, 4: 110, 5: 153, 6: 71, 7: 88, 8: 132, 9: 140}\n",
    "b = {0: 35, 1: 48, 2: 89, 3: 154, 4: 126, 5: 137, 6: 65, 7: 121, 8: 126, 9: 127}\n",
    "c = {0: 41, 1: 31, 2: 107, 3: 113, 4: 91, 5: 142, 6: 60, 7: 103, 8: 140, 9: 133}"
   ]
  },
  {
   "cell_type": "markdown",
   "metadata": {
    "id": "Qk3duJ9BlDl7"
   },
   "source": [
    "Найбільше помилок робиться на \"складних\" цифрах - 3, 5, 8, 9.\n",
    "Загальний відсоток помилок - десь 10%. Це багато."
   ]
  }
 ],
 "metadata": {
  "accelerator": "GPU",
  "colab": {
   "provenance": []
  },
  "gpuClass": "standard",
  "kernelspec": {
   "display_name": "Python 3 (ipykernel)",
   "language": "python",
   "name": "python3"
  },
  "language_info": {
   "codemirror_mode": {
    "name": "ipython",
    "version": 3
   },
   "file_extension": ".py",
   "mimetype": "text/x-python",
   "name": "python",
   "nbconvert_exporter": "python",
   "pygments_lexer": "ipython3",
   "version": "3.10.0"
  }
 },
 "nbformat": 4,
 "nbformat_minor": 4
}
