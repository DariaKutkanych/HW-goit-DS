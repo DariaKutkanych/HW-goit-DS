{
 "cells": [
  {
   "cell_type": "markdown",
   "id": "0af9153a-7cf7-448d-8a81-c30c5032db56",
   "metadata": {},
   "source": [
    "# Task1"
   ]
  },
  {
   "cell_type": "raw",
   "id": "7e778bb7-460e-44a2-bc37-54784702934b",
   "metadata": {},
   "source": [
    "Вкладчик положил 50000 условных единиц на три разных счета в три разных банка. По первому счету выплаты составят 5% годовых, по второму – 7% годовых и по третьему 6% годовых. Известно, что через год вкладчик получил по процентам сумму в 2250 у.е. с первого и второго банка и сумму в 1400 у.е. с первого и третьего банка. Сколько условных единиц он положил на каждый счет изначально?"
   ]
  },
  {
   "cell_type": "code",
   "execution_count": 2,
   "id": "4e79fa34-f2ad-43e7-8d34-4af4af4caa92",
   "metadata": {},
   "outputs": [],
   "source": [
    "import numpy as np"
   ]
  },
  {
   "cell_type": "raw",
   "id": "7daddcc4-3ccb-4a3b-bc7e-d30b622aef97",
   "metadata": {},
   "source": [
    "x*0.05 + y*0.07 + z*0 = 2250\n",
    "x*0.05 + y*0 + z*0.06 = 1400\n",
    "x + y + z = 50000"
   ]
  },
  {
   "cell_type": "code",
   "execution_count": 12,
   "id": "edac569b-cc52-466c-822f-90aed3c2a4d7",
   "metadata": {},
   "outputs": [
    {
     "name": "stdout",
     "output_type": "stream",
     "text": [
      "[10000. 25000. 15000.]\n"
     ]
    }
   ],
   "source": [
    "a = np.array([[0.05, 0.07, 0], [0.05, 0, 0.06], [1, 1, 1]])\n",
    "b = np.array([2250, 1400, 50000])\n",
    "x = np.linalg.solve(a, b)\n",
    "print(x)"
   ]
  },
  {
   "cell_type": "markdown",
   "id": "27c56b65-28e1-4ca5-b8e0-ca4c95a682b2",
   "metadata": {},
   "source": [
    "# Task2"
   ]
  },
  {
   "cell_type": "raw",
   "id": "ab88a711-9322-42aa-b759-6d73d73f3b72",
   "metadata": {},
   "source": [
    "На складе хранятся мобильные телефоны iPhone 6, iPhone 11, iPhone 12 моделей. Всего 1328 экземпляра. Моделей iPhone 6 на 120 меньше, чем моделей iPhone 11, и на 100 больше, чем моделей iPhone 12. Сколько моделей каждого вида на складе?"
   ]
  },
  {
   "cell_type": "code",
   "execution_count": null,
   "id": "c6744f62-8624-4da8-a940-dac697d2456a",
   "metadata": {},
   "outputs": [],
   "source": [
    "x - y + z*0 = -120\n",
    "x + y*0 - z = 100\n",
    "x + y + z = 1328"
   ]
  },
  {
   "cell_type": "code",
   "execution_count": 13,
   "id": "f1671205-2541-4efc-893c-91313772ebb7",
   "metadata": {},
   "outputs": [
    {
     "name": "stdout",
     "output_type": "stream",
     "text": [
      "[436. 556. 336.]\n"
     ]
    }
   ],
   "source": [
    "a = np.array([[1, -1, 0], [1, 0, -1], [1, 1, 1]])\n",
    "b = np.array([-120, 100, 1328])\n",
    "x = np.linalg.solve(a, b)\n",
    "print(x)"
   ]
  },
  {
   "cell_type": "markdown",
   "id": "2f0255db-814e-40a1-bf1b-98b416a2db45",
   "metadata": {},
   "source": [
    "# Task3"
   ]
  },
  {
   "cell_type": "raw",
   "id": "7a6d48c8-a336-4e4d-b42e-020f64726f32",
   "metadata": {},
   "source": [
    "Составьте каноническое уравнение эллипсоида, проходящего через три точки A,B,C"
   ]
  },
  {
   "cell_type": "code",
   "execution_count": null,
   "id": "dd078d04-b2af-4f6b-8dd3-449209f2a7ae",
   "metadata": {},
   "outputs": [],
   "source": [
    "3/a**2 + 0/b**2 + 3/c**2 = 1\n",
    "6/a**2 + 1/4b**2 + 0/c**2 = 1\n",
    "1/a**2 + 1/3b**2 + 1/c**2 = 1"
   ]
  },
  {
   "cell_type": "code",
   "execution_count": 25,
   "id": "2333cd79-fcda-4b44-a822-961b04870f11",
   "metadata": {},
   "outputs": [
    {
     "name": "stdout",
     "output_type": "stream",
     "text": [
      "12.0 0.5 4.0\n"
     ]
    }
   ],
   "source": [
    "a = np.array([[3, 0, 3], [6, 1/4, 0], [1, 1/3, 1]])\n",
    "b = np.array([1, 1, 1])\n",
    "x = np.linalg.solve(a, b)\n",
    "\n",
    "a_sq = round(1/x[0], 2)\n",
    "b_sq = round(1/x[1], 2)\n",
    "c_sq = round(1/x[2], 2)\n",
    "\n",
    "print(a_sq, b_sq, c_sq)\n"
   ]
  },
  {
   "cell_type": "markdown",
   "id": "ae68db77-628c-4151-a268-1f622ed920c0",
   "metadata": {},
   "source": [
    "# Task4"
   ]
  },
  {
   "cell_type": "raw",
   "id": "1560c317-ce46-48f7-8c1f-07b51b56dd27",
   "metadata": {},
   "source": [
    "Составьте уравнение параболы проходящей через заданные три точки (1,12), (3,54), (-1,2). Необходимо найти коэффициенты уравнения"
   ]
  },
  {
   "cell_type": "code",
   "execution_count": null,
   "id": "076f61eb-4fff-4698-a4a7-15b37cf3fbc2",
   "metadata": {},
   "outputs": [],
   "source": [
    "1*a + 1*b + 1*c = 12\n",
    "9*a + 3*b + 1*c = 54\n",
    "1*a - 1*b + 1*c = 2"
   ]
  },
  {
   "cell_type": "code",
   "execution_count": 30,
   "id": "2044e1e1-6469-441f-b2e2-2aa381877862",
   "metadata": {},
   "outputs": [
    {
     "name": "stdout",
     "output_type": "stream",
     "text": [
      "[ 1.5 10.  10.5]\n"
     ]
    }
   ],
   "source": [
    "a = np.array([[1, 0, 1], [9, 3, 1], [1, -1, 1]])\n",
    "b = np.array([12, 54, 2])\n",
    "x = np.linalg.solve(a, b)\n",
    "print(x)"
   ]
  },
  {
   "cell_type": "markdown",
   "id": "2624728f-3e94-4264-9f9a-515d4d704719",
   "metadata": {},
   "source": [
    "# Task5"
   ]
  },
  {
   "cell_type": "raw",
   "id": "443c3a5e-ff1d-4a2e-bde9-d3ce0899b3ca",
   "metadata": {},
   "source": [
    "Составьте функцию get_polynom, которая по набору точек вида\n",
    "будет находить коэффициенты многочлена\n",
    "Таким образом функция принимает список кортежей с координатами и возвращает набор коэффициентов"
   ]
  },
  {
   "cell_type": "code",
   "execution_count": 49,
   "id": "cf004a74-3038-4007-b131-e645383cd76e",
   "metadata": {},
   "outputs": [
    {
     "data": {
      "text/plain": [
       "array([4., 5., 3.])"
      ]
     },
     "execution_count": 49,
     "metadata": {},
     "output_type": "execute_result"
    }
   ],
   "source": [
    "def get_polynom(cords):\n",
    "    b = np.array([x[1] for x in cords])\n",
    "    a = []\n",
    "    power = len(cords)\n",
    "    for row in range(power):\n",
    "        x = cords[row][0]\n",
    "        cord_list = [x**pow for pow in reversed(range(power))]\n",
    "        a.append(cord_list)\n",
    "    a_mtx = np.array(a)\n",
    "    return np.linalg.solve(a_mtx, b)\n",
    "\n",
    "get_polynom([(1,12), (3,54), (-1,2)])\n"
   ]
  },
  {
   "cell_type": "code",
   "execution_count": null,
   "id": "9e6a6020-91c4-44d8-ae09-13333db2a353",
   "metadata": {},
   "outputs": [],
   "source": []
  }
 ],
 "metadata": {
  "kernelspec": {
   "display_name": "Python 3 (ipykernel)",
   "language": "python",
   "name": "python3"
  },
  "language_info": {
   "codemirror_mode": {
    "name": "ipython",
    "version": 3
   },
   "file_extension": ".py",
   "mimetype": "text/x-python",
   "name": "python",
   "nbconvert_exporter": "python",
   "pygments_lexer": "ipython3",
   "version": "3.10.0"
  }
 },
 "nbformat": 4,
 "nbformat_minor": 5
}
